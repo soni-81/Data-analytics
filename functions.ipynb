{
 "cells": [
  {
   "cell_type": "code",
   "execution_count": 1,
   "metadata": {},
   "outputs": [],
   "source": [
    "def si(p,r,t):\n",
    "    return p*r*t/100"
   ]
  },
  {
   "cell_type": "code",
   "execution_count": 2,
   "metadata": {},
   "outputs": [
    {
     "data": {
      "text/plain": [
       "13500.0"
      ]
     },
     "execution_count": 2,
     "metadata": {},
     "output_type": "execute_result"
    }
   ],
   "source": [
    "si(15000,10,9)"
   ]
  },
  {
   "cell_type": "code",
   "execution_count": 3,
   "metadata": {},
   "outputs": [],
   "source": [
    "def info(l,w):\n",
    "    area = l*w\n",
    "    perimeter = 2*(l+w)\n",
    "    return area,perimeter"
   ]
  },
  {
   "cell_type": "code",
   "execution_count": 4,
   "metadata": {},
   "outputs": [
    {
     "data": {
      "text/plain": [
       "(1200, 160)"
      ]
     },
     "execution_count": 4,
     "metadata": {},
     "output_type": "execute_result"
    }
   ],
   "source": [
    "info(60,20)"
   ]
  },
  {
   "cell_type": "code",
   "execution_count": 5,
   "metadata": {},
   "outputs": [
    {
     "name": "stdout",
     "output_type": "stream",
     "text": [
      "Area:600,Perimeter:100\n"
     ]
    }
   ],
   "source": [
    "\n",
    "a,p=info(30,20)# tuple unpacking\n",
    "print(f\"Area:{a},Perimeter:{p}\")"
   ]
  },
  {
   "cell_type": "code",
   "execution_count": 6,
   "metadata": {},
   "outputs": [],
   "source": [
    "def acroynm(name):\n",
    "    result=\"\"\n",
    "    for word in name.split():\n",
    "        # print(word[0])\n",
    "        result+=word[0]  # first letter\n",
    "    return result"
   ]
  },
  {
   "cell_type": "code",
   "execution_count": 7,
   "metadata": {},
   "outputs": [
    {
     "data": {
      "text/plain": [
       "'NASA'"
      ]
     },
     "execution_count": 7,
     "metadata": {},
     "output_type": "execute_result"
    }
   ],
   "source": [
    "acroynm(\"National Aeronauticsand Space Administration\")"
   ]
  },
  {
   "cell_type": "code",
   "execution_count": 8,
   "metadata": {},
   "outputs": [
    {
     "name": "stdout",
     "output_type": "stream",
     "text": [
      "['Sam Altman', 'Guido Von Rossum', 'Tim Bell']\n",
      "['SA', 'GVR', 'TB']\n"
     ]
    }
   ],
   "source": [
    "\n",
    "names=[\"Sam Altman\",\"Guido Von Rossum\",\"Tim Bell\"]\n",
    "acr=[acroynm(name)for name in names]\n",
    "print(names)\n",
    "print(acr)"
   ]
  },
  {
   "cell_type": "markdown",
   "metadata": {},
   "source": [
    "- default parameters\n",
    "- variables arguments\n",
    "- lambda expression"
   ]
  },
  {
   "cell_type": "code",
   "execution_count": 9,
   "metadata": {},
   "outputs": [
    {
     "name": "stdout",
     "output_type": "stream",
     "text": [
      "2\n",
      "8\n",
      "64\n"
     ]
    }
   ],
   "source": [
    "def power(num,exp=1):\n",
    "    return num**exp\n",
    "\n",
    "print(power(2))\n",
    "print(power(2,3))\n",
    "print(power(8,2))"
   ]
  },
  {
   "cell_type": "code",
   "execution_count": 10,
   "metadata": {},
   "outputs": [
    {
     "name": "stdout",
     "output_type": "stream",
     "text": [
      "0\n",
      "100\n",
      "28\n",
      "18\n",
      "20\n",
      "23\n"
     ]
    }
   ],
   "source": [
    "def summer(a=0,b=0,c=0,d=0):\n",
    "    return a+b+c+d\n",
    "\n",
    "print(summer())\n",
    "print(summer(100))\n",
    "print(summer(12,3,5,8))\n",
    "print(summer(9,9))\n",
    "print(summer(a=9,c=11))\n",
    "print(summer(c=12,d=11))"
   ]
  },
  {
   "cell_type": "code",
   "execution_count": 11,
   "metadata": {},
   "outputs": [
    {
     "name": "stdout",
     "output_type": "stream",
     "text": [
      "30\n",
      "6.0\n",
      "1\n",
      "5\n"
     ]
    }
   ],
   "source": [
    "def stats(*num,action='sum'):\n",
    "    if action== \"sum\":\n",
    "        return sum(num)\n",
    "    if action== \"mean\":\n",
    "        return sum(num)/len(num)\n",
    "    if action== \"count\":\n",
    "        return len(num)\n",
    "    if action== \"min\":\n",
    "        return min(num)\n",
    "\n",
    "print(stats(1,5,12,8,4))    \n",
    "print(stats(1,5,12,8,4,action=\"mean\"))    \n",
    "print(stats(1,5,12,8,4,action=\"min\"))    \n",
    "print(stats(1,5,12,8,4,action=\"count\")) "
   ]
  },
  {
   "cell_type": "code",
   "execution_count": 12,
   "metadata": {},
   "outputs": [],
   "source": [
    "\n",
    "# any function that is not returning anything is returning none\n",
    "def greeting():\n",
    "    print(\"hello\")\n",
    "    print(\"world\")"
   ]
  },
  {
   "cell_type": "code",
   "execution_count": 13,
   "metadata": {},
   "outputs": [
    {
     "name": "stdout",
     "output_type": "stream",
     "text": [
      "hello\n",
      "world\n",
      "None\n"
     ]
    }
   ],
   "source": [
    "\n",
    "print(greeting())"
   ]
  },
  {
   "cell_type": "code",
   "execution_count": 14,
   "metadata": {},
   "outputs": [
    {
     "name": "stdout",
     "output_type": "stream",
     "text": [
      "[1, 4, 9, 16, 25]\n",
      "[1, 8, 27, 64, 125]\n"
     ]
    }
   ],
   "source": [
    "# higher order function\n",
    "def apply(func,data):\n",
    "    return[func(x) for x in data]\n",
    "\n",
    "def square(x):\n",
    "    return x**2\n",
    "\n",
    "def cube(x):\n",
    "    return x**3\n",
    "\n",
    "\n",
    "# implement a function that takes a list of numbers and a function\n",
    "ans=apply(square,[1,2,3,4,5])\n",
    "print(ans)\n",
    "ans=apply(cube,[1,2,3,4,5])\n",
    "print(ans)"
   ]
  },
  {
   "cell_type": "code",
   "execution_count": 15,
   "metadata": {},
   "outputs": [
    {
     "name": "stdout",
     "output_type": "stream",
     "text": [
      "14\n",
      "35\n",
      "91\n"
     ]
    }
   ],
   "source": [
    "\n",
    "f= lambda x: x**2 + 10\n",
    "print(f(2))\n",
    "print(f(5))\n",
    "print(f(9))"
   ]
  },
  {
   "cell_type": "code",
   "execution_count": 16,
   "metadata": {},
   "outputs": [
    {
     "name": "stdout",
     "output_type": "stream",
     "text": [
      "11\n",
      "32\n",
      "18\n"
     ]
    }
   ],
   "source": [
    "g= lambda x,y: x*2 + y*2-x+y\n",
    "print(g(2,3))\n",
    "print(g(5,9))\n",
    "print(g(3,5))"
   ]
  },
  {
   "cell_type": "markdown",
   "metadata": {},
   "source": [
    "\n",
    "map and filter using lambda"
   ]
  },
  {
   "cell_type": "code",
   "execution_count": 17,
   "metadata": {},
   "outputs": [
    {
     "name": "stdout",
     "output_type": "stream",
     "text": [
      "[1, 8, 27, 64, 125]\n",
      "[1, 8, 27, 64, 125]\n",
      "[1, 8, 27, 64, 125]\n"
     ]
    }
   ],
   "source": [
    "# style 1- loop\n",
    "x=[1,2,3,4,5]\n",
    "x3=[]\n",
    "for i in x:\n",
    "    x3.append(i**3)\n",
    "print(x3)\n",
    "\n",
    "# style 2- comphrenshion\n",
    "x3=[i**3 for i in x]\n",
    "print(x3)\n",
    "\n",
    "\n",
    "# style 3- (map with lambda)\n",
    "x3=list(map(lambda i: i**3,x))\n",
    "print(x3)"
   ]
  },
  {
   "cell_type": "code",
   "execution_count": 18,
   "metadata": {},
   "outputs": [
    {
     "name": "stdout",
     "output_type": "stream",
     "text": [
      "[1, 2, 5, 8, 0, 9]\n"
     ]
    }
   ],
   "source": [
    "\n",
    "x=[1,2,5,8,\"a\",\"er\",\"d\",0,9]\n",
    "nums=list(filter(lambda i:isinstance(i,int),x))\n",
    "print(nums)"
   ]
  }
 ],
 "metadata": {
  "kernelspec": {
   "display_name": "base",
   "language": "python",
   "name": "python3"
  },
  "language_info": {
   "codemirror_mode": {
    "name": "ipython",
    "version": 3
   },
   "file_extension": ".py",
   "mimetype": "text/x-python",
   "name": "python",
   "nbconvert_exporter": "python",
   "pygments_lexer": "ipython3",
   "version": "3.12.3"
  }
 },
 "nbformat": 4,
 "nbformat_minor": 2
}
