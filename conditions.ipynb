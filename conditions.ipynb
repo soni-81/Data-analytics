{
 "cells": [
  {
   "cell_type": "markdown",
   "metadata": {},
   "source": [
    "## Condition\n",
    "- if \n",
    "- else\n",
    "- if elif\n",
    "match case\n",
    "\n",
    "if expr: statement 1\n",
    "statement2\n",
    "....\n",
    "statement n\n",
    "\n",
    "        \n"
   ]
  },
  {
   "cell_type": "code",
   "execution_count": 1,
   "metadata": {},
   "outputs": [
    {
     "name": "stdout",
     "output_type": "stream",
     "text": [
      "You have a very big name\n"
     ]
    }
   ],
   "source": [
    "name = input(\"Enter your name\")\n",
    "if(len(name)) >= 10:\n",
    "    print(\"You have a very big name\")"
   ]
  },
  {
   "cell_type": "code",
   "execution_count": 2,
   "metadata": {},
   "outputs": [
    {
     "name": "stdout",
     "output_type": "stream",
     "text": [
      "Standard name, nothing special\n",
      "Consize name\n"
     ]
    }
   ],
   "source": [
    "\n",
    "name = input(\"Enter your name\")\n",
    "if(len(name)) == 0 :\n",
    "    print(\"You dont have a name\")\n",
    "if(len(name)) >= 10:\n",
    "    print(\"You have a very big name\")\n",
    "if(len(name)) < 10:\n",
    "    print(\"Standard name, nothing special\")\n",
    "if(len(name)) <= 4:\n",
    "    print(\"Consize name\")"
   ]
  },
  {
   "cell_type": "code",
   "execution_count": 3,
   "metadata": {},
   "outputs": [
    {
     "name": "stdout",
     "output_type": "stream",
     "text": [
      "Even\n"
     ]
    }
   ],
   "source": [
    "num=int(input(\"enter the number\"))\n",
    "if num % 2 == 0:\n",
    "    print(\"Even\")\n",
    "else:\n",
    "    print(\"odd\")"
   ]
  },
  {
   "cell_type": "code",
   "execution_count": 4,
   "metadata": {},
   "outputs": [
    {
     "name": "stdout",
     "output_type": "stream",
     "text": [
      "Who are you\n"
     ]
    }
   ],
   "source": [
    "username = input(\"Enter the username\")\n",
    "password = input(\"Enter the password\")\n",
    "if username == \"admin\" and password == \"admin\":\n",
    "    print(\"Welcome user!\")\n",
    "else:\n",
    "    print(\"Who are you\") "
   ]
  },
  {
   "cell_type": "code",
   "execution_count": 5,
   "metadata": {},
   "outputs": [
    {
     "name": "stdout",
     "output_type": "stream",
     "text": [
      "Badhiya haa, you got B\n"
     ]
    }
   ],
   "source": [
    "\n",
    "# if-elif ladder\n",
    "marks = int(input(\"kitne marks aaye app ke=>\"))\n",
    "if marks > 85:\n",
    "    print(\"Arey wah! You got A\")\n",
    "elif marks >= 70:\n",
    "    print(\"Badhiya haa, you got B\")\n",
    "elif marks >= 50:\n",
    "    print(\"Chalo pass toh hue, C grade\")\n",
    "else :\n",
    "    print(\"Fail, better luck next year\")"
   ]
  },
  {
   "cell_type": "code",
   "execution_count": 6,
   "metadata": {},
   "outputs": [
    {
     "name": "stdout",
     "output_type": "stream",
     "text": [
      "password do not match\n"
     ]
    }
   ],
   "source": [
    "\n",
    "# nested conditions\n",
    "username = input(\"Username\")\n",
    "password = input(\"password\")\n",
    "if username != \"\" and password != \"\":\n",
    "    if username == \"admin\":\n",
    "        if password == \"admin\":\n",
    "            print(\"Welcome user\")\n",
    "        else:\n",
    "            print(\"password do not match\")\n",
    "    else:\n",
    "        print(\"USename does not match\")\n",
    "else:\n",
    "    print(\"Credentials do not match\")"
   ]
  },
  {
   "cell_type": "code",
   "execution_count": 7,
   "metadata": {},
   "outputs": [
    {
     "name": "stdout",
     "output_type": "stream",
     "text": [
      "You should go and play outside\n"
     ]
    }
   ],
   "source": [
    "\n",
    "# match case\n",
    "age= int(input(\"Enter your age\"))\n",
    "match age:\n",
    "    case 1:\n",
    "         print(\"You are still very young\")\n",
    "    case 10:\n",
    "          print(\"You should go and play outside\")\n",
    "    case 20:\n",
    "          print(\"You are a teeneger\")\n",
    "    case 30:\n",
    "          print(\"You are an adult\")\n",
    "    case _:\n",
    "          print(\"You are not worthy\")"
   ]
  }
 ],
 "metadata": {
  "kernelspec": {
   "display_name": "base",
   "language": "python",
   "name": "python3"
  },
  "language_info": {
   "codemirror_mode": {
    "name": "ipython",
    "version": 3
   },
   "file_extension": ".py",
   "mimetype": "text/x-python",
   "name": "python",
   "nbconvert_exporter": "python",
   "pygments_lexer": "ipython3",
   "version": "3.12.3"
  }
 },
 "nbformat": 4,
 "nbformat_minor": 2
}
