{
 "cells": [
  {
   "cell_type": "markdown",
   "metadata": {},
   "source": [
    "## loops in python\n",
    "\n",
    "1. for loop-> Step based loop\n",
    "2. while loop-> Condition based loop\n",
    "- loop control\n",
    "1. break\n",
    "2. continue\n",
    "- enumerate\n",
    "- zip()\n",
    "- for else, while else "
   ]
  },
  {
   "cell_type": "code",
   "execution_count": 1,
   "metadata": {},
   "outputs": [
    {
     "data": {
      "text/plain": [
       "[0, 1, 2, 3, 4, 5, 6, 7, 8, 9]"
      ]
     },
     "execution_count": 1,
     "metadata": {},
     "output_type": "execute_result"
    }
   ],
   "source": [
    "list(range(10))"
   ]
  },
  {
   "cell_type": "code",
   "execution_count": 2,
   "metadata": {},
   "outputs": [
    {
     "name": "stdout",
     "output_type": "stream",
     "text": [
      "0\n",
      "1\n",
      "2\n",
      "3\n",
      "4\n"
     ]
    }
   ],
   "source": [
    "for i in range(5):\n",
    "    print(i)"
   ]
  },
  {
   "cell_type": "code",
   "execution_count": 3,
   "metadata": {},
   "outputs": [
    {
     "name": "stdout",
     "output_type": "stream",
     "text": [
      "10\n",
      "11\n",
      "12\n",
      "13\n",
      "14\n",
      "15\n",
      "16\n",
      "17\n",
      "18\n",
      "19\n"
     ]
    }
   ],
   "source": [
    "for i in range(10,20):\n",
    "    print(i)"
   ]
  },
  {
   "cell_type": "code",
   "execution_count": 4,
   "metadata": {},
   "outputs": [
    {
     "name": "stdout",
     "output_type": "stream",
     "text": [
      "1,3,5,7,9,11,"
     ]
    }
   ],
   "source": [
    "\n",
    "for i in range (1,12,2):\n",
    "    print(i,end=\",\")"
   ]
  },
  {
   "cell_type": "code",
   "execution_count": 5,
   "metadata": {},
   "outputs": [
    {
     "name": "stdout",
     "output_type": "stream",
     "text": [
      "-5\n",
      "-4\n",
      "-3\n",
      "-2\n",
      "-1\n",
      "0\n",
      "1\n",
      "2\n",
      "3\n",
      "4\n"
     ]
    }
   ],
   "source": [
    "\n",
    "# reverse \n",
    "for i in range(-5,5):\n",
    "    print(i)"
   ]
  },
  {
   "cell_type": "code",
   "execution_count": 6,
   "metadata": {},
   "outputs": [
    {
     "name": "stdout",
     "output_type": "stream",
     "text": [
      "- d\n",
      "- i\n",
      "- g\n",
      "- i\n",
      "- p\n",
      "- o\n",
      "- d\n",
      "- i\n",
      "- u\n",
      "- m\n"
     ]
    }
   ],
   "source": [
    "word = \"digipodium\"\n",
    "for char in word:\n",
    "    print(\"-\",char)"
   ]
  },
  {
   "cell_type": "code",
   "execution_count": 7,
   "metadata": {},
   "outputs": [
    {
     "name": "stdout",
     "output_type": "stream",
     "text": [
      "p\n",
      "y\n",
      "t\n",
      "h\n",
      "o\n",
      "n\n"
     ]
    }
   ],
   "source": [
    "data = \"p57ython$$#\"\n",
    "for i in data:\n",
    "    if i.isalpha():\n",
    "        print(i)"
   ]
  },
  {
   "cell_type": "code",
   "execution_count": 8,
   "metadata": {},
   "outputs": [
    {
     "name": "stdout",
     "output_type": "stream",
     "text": [
      "-25\n",
      "-20\n",
      "-15\n",
      "-10\n",
      "-5\n",
      "0\n",
      "5\n",
      "10\n",
      "15\n",
      "20\n",
      "25\n"
     ]
    }
   ],
   "source": [
    "num = [-5,-4,-3,-2,-1,0,1,2,3,4,5]\n",
    "for num in num:\n",
    "    print(num*5)"
   ]
  },
  {
   "cell_type": "code",
   "execution_count": 9,
   "metadata": {},
   "outputs": [
    {
     "name": "stdout",
     "output_type": "stream",
     "text": [
      "-4\n",
      "-2\n",
      "0\n",
      "2\n",
      "4\n"
     ]
    }
   ],
   "source": [
    "num = [-5,-4,-3,-2,-1,0,1,2,3,4,5]\n",
    "for i in num:\n",
    "    if i % 2 == 0:\n",
    "        print(i)"
   ]
  },
  {
   "cell_type": "code",
   "execution_count": 10,
   "metadata": {},
   "outputs": [
    {
     "name": "stdout",
     "output_type": "stream",
     "text": [
      "apple 5\n",
      "banana 6\n",
      "cherry 6\n",
      "dragonfruit 11\n",
      "eggplant 8\n",
      "fig 3\n",
      "guava 5\n",
      "honeydew 8\n",
      "imli 4\n",
      "kiwi 4\n"
     ]
    }
   ],
   "source": [
    "fruits=[\"apple\",\"banana\",\"cherry\",\"dragonfruit\",\"eggplant\",\"fig\",\"guava\",\"honeydew\",\"imli\",\"kiwi\"]\n",
    "for fruit in fruits:\n",
    "    print(fruit, len(fruit))"
   ]
  },
  {
   "cell_type": "code",
   "execution_count": 11,
   "metadata": {},
   "outputs": [
    {
     "name": "stdout",
     "output_type": "stream",
     "text": [
      "apple\n",
      "banana\n",
      "cherry\n",
      "dragonfruit\n",
      "eggplant\n",
      "loop completed\n"
     ]
    }
   ],
   "source": [
    "for a in fruits:\n",
    "    if a == \"fig\":\n",
    "        break\n",
    "    print(a)\n",
    "print(\"loop completed\")"
   ]
  },
  {
   "cell_type": "code",
   "execution_count": 12,
   "metadata": {},
   "outputs": [
    {
     "name": "stdout",
     "output_type": "stream",
     "text": [
      "134\n"
     ]
    }
   ],
   "source": [
    "\n",
    "nums = [10,30,65,29]\n",
    "total=0\n",
    "for i in nums:\n",
    "    total += i\n",
    "print(total)"
   ]
  },
  {
   "cell_type": "code",
   "execution_count": 13,
   "metadata": {},
   "outputs": [
    {
     "name": "stdout",
     "output_type": "stream",
     "text": [
      "286\n"
     ]
    }
   ],
   "source": [
    "nums=[120,-20,10,40,101,-50,15]\n",
    "total= 0\n",
    "for i in nums:\n",
    "    if i < 0:\n",
    "        continue #skip\n",
    "    total += i\n",
    "print(total)"
   ]
  },
  {
   "cell_type": "code",
   "execution_count": 14,
   "metadata": {},
   "outputs": [
    {
     "name": "stdout",
     "output_type": "stream",
     "text": [
      "286\n"
     ]
    }
   ],
   "source": [
    "\n",
    "total = 0\n",
    "for i in nums:\n",
    "    if i > 0:\n",
    "        total += i\n",
    "print(total)"
   ]
  },
  {
   "cell_type": "code",
   "execution_count": 15,
   "metadata": {},
   "outputs": [
    {
     "name": "stdout",
     "output_type": "stream",
     "text": [
      "-100\n"
     ]
    }
   ],
   "source": [
    "num=[-100,200,-300,400,-500]\n",
    "for i in num:\n",
    "    if i > 0:\n",
    "        break\n",
    "    print(i)"
   ]
  },
  {
   "cell_type": "code",
   "execution_count": 16,
   "metadata": {},
   "outputs": [
    {
     "name": "stdout",
     "output_type": "stream",
     "text": [
      "isha\n",
      "harsh\n",
      "divyansh\n",
      "muskan\n",
      "anshika\n"
     ]
    }
   ],
   "source": [
    "\n",
    "names=[\"isha\",\"harsh\",\"divyansh\",\"muskan\",\"anshika\"]\n",
    "for i in names:\n",
    "    print(i)"
   ]
  },
  {
   "cell_type": "code",
   "execution_count": 17,
   "metadata": {},
   "outputs": [
    {
     "name": "stdout",
     "output_type": "stream",
     "text": [
      "0 isha\n",
      "1 harsh\n",
      "2 divyansh\n"
     ]
    }
   ],
   "source": [
    "\n",
    "for i, v in enumerate(names):\n",
    "    if i == 3:\n",
    "        break\n",
    "    print(i,v)"
   ]
  },
  {
   "cell_type": "code",
   "execution_count": 18,
   "metadata": {},
   "outputs": [
    {
     "name": "stdout",
     "output_type": "stream",
     "text": [
      "0 isha\n",
      "2 divyansh\n",
      "4 anshika\n"
     ]
    }
   ],
   "source": [
    "for i,v in enumerate(names):\n",
    "    if i % 2 == 0:\n",
    "        print(i,v)"
   ]
  },
  {
   "cell_type": "code",
   "execution_count": 19,
   "metadata": {},
   "outputs": [
    {
     "name": "stdout",
     "output_type": "stream",
     "text": [
      "1 harsh\n",
      "3 muskan\n"
     ]
    }
   ],
   "source": [
    "for i,v in enumerate(names):\n",
    "    if i % 2 != 0:\n",
    "        print(i,v)"
   ]
  },
  {
   "cell_type": "code",
   "execution_count": 20,
   "metadata": {},
   "outputs": [
    {
     "name": "stdout",
     "output_type": "stream",
     "text": [
      "1 6\n",
      "2 7\n",
      "3 8\n",
      "4 9\n",
      "5 10\n"
     ]
    }
   ],
   "source": [
    "x = [1,2,3,4,5]\n",
    "y = [6,7,8,9,10]\n",
    "for  i,j in zip(x,y):\n",
    "    print(i,j)"
   ]
  },
  {
   "cell_type": "code",
   "execution_count": 21,
   "metadata": {},
   "outputs": [
    {
     "name": "stdout",
     "output_type": "stream",
     "text": [
      "1+6=7\n",
      "2+7=9\n",
      "3+8=11\n",
      "4+9=13\n",
      "5+10=15\n"
     ]
    }
   ],
   "source": [
    "\n",
    "x = [1,2,3,4,5]\n",
    "y = [6,7,8,9,10]\n",
    "\n",
    "for  i,j in zip(x,y):\n",
    "    print(f\"{i}+{j}={i+j}\")"
   ]
  },
  {
   "cell_type": "code",
   "execution_count": 22,
   "metadata": {},
   "outputs": [
    {
     "name": "stdout",
     "output_type": "stream",
     "text": [
      "apple     | 100 |  300\n",
      "banana    | 200 |  400\n",
      "cherry    | 300 | 1500\n"
     ]
    }
   ],
   "source": [
    "name=[\"apple\",\"banana\",\"cherry\"]\n",
    "price=[100,200,300]\n",
    "qty=[3,2,5]\n",
    "for n,p,q in zip(name, price,qty):\n",
    "    print(f\"{n:10}|{p:^5}|{p*q:>5}\")"
   ]
  },
  {
   "cell_type": "code",
   "execution_count": 23,
   "metadata": {},
   "outputs": [
    {
     "name": "stdout",
     "output_type": "stream",
     "text": [
      "apple     | 100 |  300\n",
      "banana    | 200 |  400\n",
      "cherry    | 300 | 1500\n",
      "_______________________\n",
      "total             2200\n"
     ]
    }
   ],
   "source": [
    "name=[\"apple\",\"banana\",\"cherry\"]\n",
    "price=[100,200,300]\n",
    "qty=[3,2,5]\n",
    "total=0\n",
    "for n,p,q in zip(name, price,qty):\n",
    "    print(f\"{n:10}|{p:^5}|{p*q:>5}\")\n",
    "    total += p*q\n",
    "print(\"_\"*23)\n",
    "print(f\"total{total:17}\")"
   ]
  },
  {
   "cell_type": "code",
   "execution_count": 24,
   "metadata": {},
   "outputs": [
    {
     "name": "stdout",
     "output_type": "stream",
     "text": [
      "0\n",
      "1\n",
      "2\n",
      "3\n",
      "4\n",
      "loop completed succesfully\n"
     ]
    }
   ],
   "source": [
    "for i in range(5):\n",
    "    print(i)\n",
    "    if i == 13:\n",
    "        break\n",
    "else:\n",
    "        print(\"loop completed succesfully\")"
   ]
  },
  {
   "cell_type": "code",
   "execution_count": 30,
   "metadata": {},
   "outputs": [
    {
     "name": "stdout",
     "output_type": "stream",
     "text": [
      "1\n",
      "2\n",
      "3\n",
      "4\n",
      "5\n",
      "6\n",
      "7\n",
      "8\n",
      "9\n",
      "10\n",
      "loop completed successfully\n"
     ]
    }
   ],
   "source": [
    "\n",
    "n=int(input(\"enter the stop value\"))\n",
    "for i in range(1,11):\n",
    "    if i == n:\n",
    "        print(\"loop terminated\")\n",
    "        break\n",
    "    print(i)\n",
    "else:\n",
    "    print(\"loop completed successfully\")"
   ]
  },
  {
   "cell_type": "code",
   "execution_count": 31,
   "metadata": {},
   "outputs": [
    {
     "name": "stdout",
     "output_type": "stream",
     "text": [
      "=>11 % 2 == False\n",
      "=>11 % 3 == False\n",
      "=>11 % 4 == False\n",
      "=>11 % 5 == False\n",
      "=>11 % 6 == False\n",
      "=>11 % 7 == False\n",
      "=>11 % 8 == False\n",
      "=>11 % 9 == False\n",
      "=>11 % 10 == False\n",
      "prime\n"
     ]
    }
   ],
   "source": [
    "# prime numbers\n",
    "n =  int(input(\"enter a number\"))\n",
    "for i in range(2,n):\n",
    "    print(f\"=>{n} % {i} == {n%i==0}\")\n",
    "    if n%i==0:\n",
    "        print(\"Not prime\")\n",
    "        break\n",
    "else:\n",
    "    print(\"prime\")"
   ]
  },
  {
   "cell_type": "code",
   "execution_count": 32,
   "metadata": {},
   "outputs": [
    {
     "name": "stdout",
     "output_type": "stream",
     "text": [
      "200\n",
      "175\n",
      "150\n",
      "125\n",
      "100\n",
      "75\n",
      "50\n",
      "25\n"
     ]
    }
   ],
   "source": [
    "i = 200\n",
    "while i>0:\n",
    "    print(i)\n",
    "    i-=25"
   ]
  }
 ],
 "metadata": {
  "kernelspec": {
   "display_name": "base",
   "language": "python",
   "name": "python3"
  },
  "language_info": {
   "codemirror_mode": {
    "name": "ipython",
    "version": 3
   },
   "file_extension": ".py",
   "mimetype": "text/x-python",
   "name": "python",
   "nbconvert_exporter": "python",
   "pygments_lexer": "ipython3",
   "version": "3.12.3"
  }
 },
 "nbformat": 4,
 "nbformat_minor": 2
}
