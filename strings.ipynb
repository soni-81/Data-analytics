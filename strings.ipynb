{
 "cells": [
  {
   "cell_type": "markdown",
   "metadata": {},
   "source": [
    "## Strings\n",
    "- creation\n",
    "- indexing and slicing\n",
    "- method"
   ]
  },
  {
   "cell_type": "code",
   "execution_count": 1,
   "metadata": {},
   "outputs": [
    {
     "name": "stdout",
     "output_type": "stream",
     "text": [
      "<class 'str'>\n"
     ]
    }
   ],
   "source": [
    "# single quoted\n",
    "a = 'apple'\n",
    "print(type(a))"
   ]
  },
  {
   "cell_type": "code",
   "execution_count": 2,
   "metadata": {},
   "outputs": [
    {
     "name": "stdout",
     "output_type": "stream",
     "text": [
      "<class 'str'>\n"
     ]
    }
   ],
   "source": [
    "# double quoted\n",
    "b= \"big apple\"\n",
    "print(type(a))"
   ]
  },
  {
   "cell_type": "code",
   "execution_count": 3,
   "metadata": {},
   "outputs": [
    {
     "name": "stdout",
     "output_type": "stream",
     "text": [
      "<class 'str'>\n"
     ]
    }
   ],
   "source": [
    "# triple quoted\n",
    "c ='''this is\n",
    "a string.\n",
    "ans its in triple\n",
    "quotes'''\n",
    "print(type(c))"
   ]
  },
  {
   "cell_type": "markdown",
   "metadata": {},
   "source": [
    "## types of strings\n",
    "- byte b\"hello\"\n",
    "- raw r\"hello\"\n",
    "- format f\"hello {a}\""
   ]
  },
  {
   "cell_type": "code",
   "execution_count": 4,
   "metadata": {},
   "outputs": [
    {
     "name": "stdout",
     "output_type": "stream",
     "text": [
      "b'this is a byte string'\n",
      "this is \\n\\n\\n a byte string\n",
      "apple is a value\n"
     ]
    }
   ],
   "source": [
    "print(b\"this is a byte string\")\n",
    "print(r\"this is \\n\\n\\n a byte string\")\n",
    "print(f\"{a} is a value\")"
   ]
  },
  {
   "cell_type": "markdown",
   "metadata": {},
   "source": [
    "## indexing\n",
    "\n",
    "    -5 -4 -3 -2 -1\n",
    "     a  p  p  l  e\n",
    "     0  1  2  3  4"
   ]
  },
  {
   "cell_type": "code",
   "execution_count": 5,
   "metadata": {},
   "outputs": [
    {
     "name": "stdout",
     "output_type": "stream",
     "text": [
      "G\n",
      "r\n",
      "e\n",
      "e\n",
      "k\n"
     ]
    }
   ],
   "source": [
    "word =\"Greek\"\n",
    "print(word[0])\n",
    "print(word[1])\n",
    "print(word[2])\n",
    "print(word[-2])\n",
    "print(word[-1])"
   ]
  },
  {
   "cell_type": "code",
   "execution_count": 6,
   "metadata": {},
   "outputs": [
    {
     "name": "stdout",
     "output_type": "stream",
     "text": [
      "d\n",
      "n\n"
     ]
    }
   ],
   "source": [
    "msg = \"Journey before destination\"\n",
    "print(msg[15])\n",
    "print(msg[-6])"
   ]
  },
  {
   "cell_type": "code",
   "execution_count": 7,
   "metadata": {},
   "outputs": [
    {
     "name": "stdout",
     "output_type": "stream",
     "text": [
      "Journey\n"
     ]
    }
   ],
   "source": [
    "print(msg[0]+msg[1]+msg[2]+msg[3]+msg[4]+msg[5]+msg[6])"
   ]
  },
  {
   "cell_type": "code",
   "execution_count": 8,
   "metadata": {},
   "outputs": [
    {
     "name": "stdout",
     "output_type": "stream",
     "text": [
      "Journey\n"
     ]
    }
   ],
   "source": [
    "\n",
    "print(msg[0:7])"
   ]
  },
  {
   "cell_type": "code",
   "execution_count": 9,
   "metadata": {},
   "outputs": [
    {
     "name": "stdout",
     "output_type": "stream",
     "text": [
      "before\n"
     ]
    }
   ],
   "source": [
    "print(msg[8:14])"
   ]
  },
  {
   "cell_type": "code",
   "execution_count": 10,
   "metadata": {},
   "outputs": [
    {
     "name": "stdout",
     "output_type": "stream",
     "text": [
      " destination\n"
     ]
    }
   ],
   "source": [
    "print(msg[14:])"
   ]
  },
  {
   "cell_type": "code",
   "execution_count": 11,
   "metadata": {},
   "outputs": [
    {
     "name": "stdout",
     "output_type": "stream",
     "text": [
      "Vijay\n",
      "Deenanath\n",
      "Chauhan\n"
     ]
    }
   ],
   "source": [
    "\n",
    "name = \"Vijay Deenanath Chauhan\"\n",
    "fname = print(name[:5])\n",
    "mname = print (name[6:-8])\n",
    "lname = print(name[16:23])"
   ]
  },
  {
   "cell_type": "code",
   "execution_count": 12,
   "metadata": {},
   "outputs": [
    {
     "name": "stdout",
     "output_type": "stream",
     "text": [
      "nahuahC htananeeD yajiV\n",
      "VjyDeaahCahn\n",
      "ia ennt hua\n",
      " Deenanath Ch\n"
     ]
    }
   ],
   "source": [
    "\n",
    "# reverse\n",
    "print(name[::-1])\n",
    "# step\n",
    "print(name[::2])\n",
    "print(name[1::2])\n",
    "# leaving out start and end\n",
    "print(name[5:-5])"
   ]
  },
  {
   "cell_type": "code",
   "execution_count": 13,
   "metadata": {},
   "outputs": [
    {
     "name": "stdout",
     "output_type": "stream",
     "text": [
      "5599.25\n"
     ]
    }
   ],
   "source": [
    "x = \"$5599.25 only\"\n",
    "x=float(x[1:-5])\n",
    "print(x)"
   ]
  },
  {
   "cell_type": "code",
   "execution_count": 14,
   "metadata": {},
   "outputs": [
    {
     "data": {
      "text/plain": [
       "'Apple'"
      ]
     },
     "execution_count": 14,
     "metadata": {},
     "output_type": "execute_result"
    }
   ],
   "source": [
    "a.title()"
   ]
  },
  {
   "cell_type": "markdown",
   "metadata": {},
   "source": [
    "## string methods\n",
    "- formatting\n",
    "    - upper()\n",
    "    - lower()\n",
    "    - capitalize()\n",
    "    - title()\n",
    "    - swapcase()\n",
    "    - casefold()\n",
    "    - center()\n",
    "    - ljust()\n",
    "    - rjust()\n",
    "- validation\n",
    "- utility function"
   ]
  },
  {
   "cell_type": "code",
   "execution_count": 15,
   "metadata": {},
   "outputs": [
    {
     "name": "stdout",
     "output_type": "stream",
     "text": [
      "LIFE IS BEAUTIFUL\n",
      "life is beautiful\n",
      "Life Is Beautiful\n",
      "Life is beautiful\n",
      "lIFE IS bEAUTIFUL\n",
      "life is beautiful\n",
      "                Life is Beautiful                 \n",
      "Life is Beautiful                                 \n",
      "                                 Life is Beautiful\n",
      "*********************************Life is Beautiful\n",
      "Life is Beautiful*********************************\n",
      "****************Life is Beautiful*****************\n"
     ]
    }
   ],
   "source": [
    "\n",
    "msg = \"Life is Beautiful\"\n",
    "print(msg.upper())\n",
    "print(msg.lower())\n",
    "print(msg.title())\n",
    "print(msg.capitalize())\n",
    "print(msg.swapcase())\n",
    "print(msg.casefold())\n",
    "print(msg.center(50))\n",
    "print(msg.ljust(50))\n",
    "print(msg.rjust(50))\n",
    "print(msg.rjust(50,\"*\"))\n",
    "print(msg.ljust(50,\"*\"))\n",
    "print(msg.center(50,\"*\"))"
   ]
  },
  {
   "cell_type": "markdown",
   "metadata": {},
   "source": [
    "\n",
    "-  validation method\n",
    "    - isalpha()\n",
    "    - isalnum()\n",
    "    - is numeric()\n",
    "    - isdigit()\n",
    "    - isspace()\n",
    "    - isascii()\n",
    "    - isprintable()\n",
    "    - isupper()\n",
    "    - islower()"
   ]
  },
  {
   "cell_type": "code",
   "execution_count": 16,
   "metadata": {},
   "outputs": [
    {
     "name": "stdout",
     "output_type": "stream",
     "text": [
      "soni\n",
      "True\n",
      "True\n",
      "False\n",
      "False\n",
      "True\n",
      "True\n",
      "False\n",
      "True\n"
     ]
    }
   ],
   "source": [
    "data = input(\"Enter data:\")\n",
    "print(data)\n",
    "print(data.isalpha())\n",
    "print(data.isalnum())\n",
    "print(data.isnumeric())\n",
    "print(data.isdigit())\n",
    "print(data.isascii())\n",
    "print(data.isprintable())\n",
    "print(data.isupper())\n",
    "print(data.islower())\n"
   ]
  },
  {
   "cell_type": "markdown",
   "metadata": {},
   "source": [
    "- utility functions\n",
    "    - split()\n",
    "    - find()\n",
    "    - index()\n",
    "    - count()\n",
    "    - join()\n",
    "    - replace()\n",
    "    - strip()"
   ]
  },
  {
   "cell_type": "code",
   "execution_count": 17,
   "metadata": {},
   "outputs": [
    {
     "data": {
      "text/plain": [
       "['All', 'the', 'glitter', 'is', 'not', 'gold']"
      ]
     },
     "execution_count": 17,
     "metadata": {},
     "output_type": "execute_result"
    }
   ],
   "source": [
    "sentence = \"All the glitter is not gold\"\n",
    "sentence.split()"
   ]
  },
  {
   "cell_type": "code",
   "execution_count": 18,
   "metadata": {},
   "outputs": [
    {
     "name": "stdout",
     "output_type": "stream",
     "text": [
      "All\n",
      "the\n",
      "glitter\n",
      "is\n",
      "not\n",
      "gold\n"
     ]
    }
   ],
   "source": [
    "words = sentence.split()\n",
    "for word in words:\n",
    "    print(word)"
   ]
  },
  {
   "cell_type": "code",
   "execution_count": 19,
   "metadata": {},
   "outputs": [
    {
     "data": {
      "text/plain": [
       "['Life before Death',\n",
       " ' Strength before Weakness',\n",
       " ' journey before Destination']"
      ]
     },
     "execution_count": 19,
     "metadata": {},
     "output_type": "execute_result"
    }
   ],
   "source": [
    "quote = \"Life before Death, Strength before Weakness, journey before Destination\"\n",
    "quote.split(\",\")"
   ]
  },
  {
   "cell_type": "code",
   "execution_count": 20,
   "metadata": {},
   "outputs": [
    {
     "data": {
      "text/plain": [
       "['Johnny Johhny, Yes Papa',\n",
       " 'Eating sugar, No Papa',\n",
       " 'Telling lies, No Papa',\n",
       " 'Open your mouth, Ha! Ha! Ha!']"
      ]
     },
     "execution_count": 20,
     "metadata": {},
     "output_type": "execute_result"
    }
   ],
   "source": [
    "poem= \"\"\"Johnny Johhny, Yes Papa\n",
    "Eating sugar, No Papa\n",
    "Telling lies, No Papa\n",
    "Open your mouth, Ha! Ha! Ha!\"\"\"\n",
    "poem.splitlines()"
   ]
  },
  {
   "cell_type": "code",
   "execution_count": 22,
   "metadata": {},
   "outputs": [
    {
     "name": "stdout",
     "output_type": "stream",
     "text": [
      "['C:', 'users', 'soni', 'download', 'file.txt']\n",
      "C:/users/soni/download/file.txt\n"
     ]
    }
   ],
   "source": [
    "\n",
    "addr = ['C:','users','soni','download','file.txt']\n",
    "print(addr)\n",
    "full_addr=\"/\".join(addr)\n",
    "print(full_addr)"
   ]
  },
  {
   "cell_type": "code",
   "execution_count": 26,
   "metadata": {},
   "outputs": [
    {
     "name": "stdout",
     "output_type": "stream",
     "text": [
      "4\n"
     ]
    }
   ],
   "source": [
    "\n",
    "# wap to count the even sized words\n",
    "x= input(\"Enter any sentence\")\n",
    "words=x.split()\n",
    "total = 0\n",
    "for word in words:\n",
    "    size= len(word)\n",
    "    if size % 2 == 0:\n",
    "        total +=1\n",
    "print(total)"
   ]
  },
  {
   "cell_type": "code",
   "execution_count": 27,
   "metadata": {},
   "outputs": [
    {
     "name": "stdout",
     "output_type": "stream",
     "text": [
      "1\n"
     ]
    }
   ],
   "source": [
    "# wap to count the odd sized words\n",
    "x= input(\"Enter any sentence\")\n",
    "words=x.split()\n",
    "total = 0\n",
    "for word in words:\n",
    "    size= len(word)\n",
    "    if size % 2 != 0:\n",
    "        total +=1\n",
    "print(total)"
   ]
  },
  {
   "cell_type": "code",
   "execution_count": 30,
   "metadata": {},
   "outputs": [
    {
     "name": "stdout",
     "output_type": "stream",
     "text": [
      "2\n",
      "10\n",
      "-1\n",
      "5\n",
      "2\n",
      "5\n"
     ]
    },
    {
     "ename": "ValueError",
     "evalue": "substring not found",
     "output_type": "error",
     "traceback": [
      "\u001b[1;31m---------------------------------------------------------------------------\u001b[0m",
      "\u001b[1;31mValueError\u001b[0m                                Traceback (most recent call last)",
      "Cell \u001b[1;32mIn[30], line 8\u001b[0m\n\u001b[0;32m      6\u001b[0m \u001b[38;5;28mprint\u001b[39m(a\u001b[38;5;241m.\u001b[39mindex(\u001b[38;5;124m\"\u001b[39m\u001b[38;5;124mis\u001b[39m\u001b[38;5;124m\"\u001b[39m))\n\u001b[0;32m      7\u001b[0m \u001b[38;5;28mprint\u001b[39m(a\u001b[38;5;241m.\u001b[39mindex(\u001b[38;5;124m\"\u001b[39m\u001b[38;5;124mis\u001b[39m\u001b[38;5;124m\"\u001b[39m,\u001b[38;5;241m3\u001b[39m))\n\u001b[1;32m----> 8\u001b[0m \u001b[38;5;28mprint\u001b[39m(\u001b[43ma\u001b[49m\u001b[38;5;241;43m.\u001b[39;49m\u001b[43mindex\u001b[49m\u001b[43m(\u001b[49m\u001b[38;5;124;43m\"\u001b[39;49m\u001b[38;5;124;43mare\u001b[39;49m\u001b[38;5;124;43m\"\u001b[39;49m\u001b[43m)\u001b[49m)\u001b[38;5;66;03m# error\u001b[39;00m\n",
      "\u001b[1;31mValueError\u001b[0m: substring not found"
     ]
    }
   ],
   "source": [
    "a = \"this is a message\"\n",
    "print(a.find(\"is\"))\n",
    "print(a.find(\"mess\"))\n",
    "print(a.find(\"are\"))\n",
    "print(a.find(\"is\",3))# start from index 3, index is same as find but it throws error when word is not found\n",
    "print(a.index(\"is\"))\n",
    "print(a.index(\"is\",3))\n",
    "print(a.index(\"are\"))# error"
   ]
  },
  {
   "cell_type": "code",
   "execution_count": 31,
   "metadata": {},
   "outputs": [
    {
     "name": "stdout",
     "output_type": "stream",
     "text": [
      "thwas was a message\n",
      "this is a letter\n",
      "khis is a lekter\n"
     ]
    }
   ],
   "source": [
    "b= a.replace(\"is\",\"was\")\n",
    "print(b)\n",
    "c= b.replace(\"message\",\"letter\").replace(\"was\",\"is\")\n",
    "print(c)\n",
    "d = c.replace(\"t\",\"k\",2)# replace any 2 occurence \n",
    "print(d)"
   ]
  },
  {
   "cell_type": "code",
   "execution_count": 32,
   "metadata": {},
   "outputs": [
    {
     "data": {
      "text/plain": [
       "'hello'"
      ]
     },
     "execution_count": 32,
     "metadata": {},
     "output_type": "execute_result"
    }
   ],
   "source": [
    "# replace as remove\n",
    "data = \"he!!!llo\"\n",
    "data.replace(\"!\",\"\")# remove all"
   ]
  },
  {
   "cell_type": "code",
   "execution_count": 33,
   "metadata": {},
   "outputs": [
    {
     "data": {
      "text/plain": [
       "'Ths s my lttl wrld'"
      ]
     },
     "execution_count": 33,
     "metadata": {},
     "output_type": "execute_result"
    }
   ],
   "source": [
    "# wap to remove all vowels from strings\n",
    "a= (\"This is my little world\")\n",
    "a.replace(\"a\",\"\").replace(\"e\",\"\").replace(\"i\",\"\").replace(\"o\",\"\").replace(\"u\",\"\")"
   ]
  },
  {
   "cell_type": "code",
   "execution_count": 34,
   "metadata": {},
   "outputs": [
    {
     "name": "stdout",
     "output_type": "stream",
     "text": [
      "4\n",
      "2\n",
      "1\n",
      "0\n",
      "0\n"
     ]
    }
   ],
   "source": [
    "msg=\"one two three one two\"\n",
    "print(msg.count(\"o\"))\n",
    "print(msg.count(\"one\"))\n",
    "print(msg.count(\"ee\"))\n",
    "print(msg.count(\"four\"))\n",
    "print(msg.count(\"five\"))"
   ]
  },
  {
   "cell_type": "code",
   "execution_count": 35,
   "metadata": {},
   "outputs": [
    {
     "name": "stdout",
     "output_type": "stream",
     "text": [
      "19    anshika gupta   \n",
      "13 anshika gupta\n"
     ]
    }
   ],
   "source": [
    "name= \"   anshika gupta   \"\n",
    "print(len(name),name)\n",
    "clean_name = name.strip()\n",
    "print(len(clean_name),clean_name)\n"
   ]
  },
  {
   "cell_type": "code",
   "execution_count": 36,
   "metadata": {},
   "outputs": [
    {
     "name": "stdout",
     "output_type": "stream",
     "text": [
      "John\n",
      "Alex\n",
      "Jane\n",
      "Alexa\n",
      "Jacob\n"
     ]
    }
   ],
   "source": [
    "names = [\n",
    "    \" john\",\n",
    "    \" alex\",\n",
    "    \" jane\",\n",
    "    \"alexa \",\n",
    "    \" jacob\",\n",
    "]\n",
    "for i in names:\n",
    "    print(i.strip().capitalize())"
   ]
  }
 ],
 "metadata": {
  "kernelspec": {
   "display_name": "base",
   "language": "python",
   "name": "python3"
  },
  "language_info": {
   "codemirror_mode": {
    "name": "ipython",
    "version": 3
   },
   "file_extension": ".py",
   "mimetype": "text/x-python",
   "name": "python",
   "nbconvert_exporter": "python",
   "pygments_lexer": "ipython3",
   "version": "3.12.3"
  }
 },
 "nbformat": 4,
 "nbformat_minor": 2
}
