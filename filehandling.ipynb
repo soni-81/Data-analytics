{
 "cells": [
  {
   "cell_type": "code",
   "execution_count": 28,
   "metadata": {},
   "outputs": [],
   "source": [
    "import os"
   ]
  },
  {
   "cell_type": "code",
   "execution_count": 29,
   "metadata": {},
   "outputs": [
    {
     "name": "stdout",
     "output_type": "stream",
     "text": [
      "['.git', 'basic.ipynb', 'conditions.ipynb', 'filehandling.ipynb', 'functions.ipynb', 'io.ipynb', 'kahani.py', 'list.ipynb', 'loops.ipynb', 'mynotes', 'README.md', 'strings.ipynb']\n"
     ]
    }
   ],
   "source": [
    "content=os.listdir()\n",
    "print(content)"
   ]
  },
  {
   "cell_type": "code",
   "execution_count": 30,
   "metadata": {},
   "outputs": [
    {
     "name": "stdout",
     "output_type": "stream",
     "text": [
      "Total content: 30\n"
     ]
    }
   ],
   "source": [
    "addr =r'c:\\Program Files'\n",
    "content=os.listdir(addr)\n",
    "print(f\"Total content: {len(content)}\")"
   ]
  },
  {
   "cell_type": "code",
   "execution_count": 31,
   "metadata": {},
   "outputs": [
    {
     "data": {
      "text/plain": [
       "['C:\\\\', 'D:\\\\', 'E:\\\\', 'F:\\\\']"
      ]
     },
     "execution_count": 31,
     "metadata": {},
     "output_type": "execute_result"
    }
   ],
   "source": [
    "os.listdrives()"
   ]
  },
  {
   "cell_type": "code",
   "execution_count": 32,
   "metadata": {},
   "outputs": [
    {
     "name": "stdout",
     "output_type": "stream",
     "text": [
      "['.git', 'basic.ipynb', 'conditions.ipynb', 'filehandling.ipynb', 'functions.ipynb', 'io.ipynb', 'kahani.py', 'list.ipynb', 'loops.ipynb', 'mynotes', 'README.md', 'strings.ipynb']\n"
     ]
    }
   ],
   "source": [
    "\n",
    "os.chdir(\"C:\")\n",
    "print(os.listdir())"
   ]
  },
  {
   "cell_type": "code",
   "execution_count": 33,
   "metadata": {},
   "outputs": [
    {
     "data": {
      "text/plain": [
       "'c:\\\\Users\\\\Lenovo\\\\Documents\\\\Data analytics'"
      ]
     },
     "execution_count": 33,
     "metadata": {},
     "output_type": "execute_result"
    }
   ],
   "source": [
    "os.getcwd()"
   ]
  },
  {
   "cell_type": "code",
   "execution_count": 34,
   "metadata": {},
   "outputs": [],
   "source": [
    "os.makedirs(\"mynotes\",exist_ok=True)"
   ]
  },
  {
   "cell_type": "code",
   "execution_count": 35,
   "metadata": {},
   "outputs": [
    {
     "data": {
      "text/plain": [
       "'c:\\\\Users\\\\Lenovo\\\\Documents\\\\Data analytics'"
      ]
     },
     "execution_count": 35,
     "metadata": {},
     "output_type": "execute_result"
    }
   ],
   "source": [
    "\n",
    "os.getcwd()"
   ]
  },
  {
   "cell_type": "markdown",
   "metadata": {},
   "source": [
    "## file handling\n",
    "- open()-opens file resources and returns a file object\n",
    "    - \"r\"-read mode\n",
    "    - \"w\"-write mode\n",
    "    - \"a\"- append mode\n"
   ]
  },
  {
   "cell_type": "code",
   "execution_count": 36,
   "metadata": {},
   "outputs": [],
   "source": [
    "with open(\"mynotes/note1.txt\",\"w\")as f:\n",
    "    f.write(\"My name is Anshika\\n\")\n",
    "    f.write(\"I live in lucknow\\n\")\n",
    "    f.write(\"I love this place\\n\")"
   ]
  },
  {
   "cell_type": "code",
   "execution_count": 37,
   "metadata": {},
   "outputs": [],
   "source": [
    "with open(\"mynotes/note1.txt\",\"a\")as f:\n",
    "    f.write(\"hello i am learning python\")\n",
    "    f.write(\"I am currently a beginner\")"
   ]
  },
  {
   "cell_type": "code",
   "execution_count": 39,
   "metadata": {},
   "outputs": [
    {
     "ename": "UnsupportedOperation",
     "evalue": "not readable",
     "output_type": "error",
     "traceback": [
      "\u001b[1;31m---------------------------------------------------------------------------\u001b[0m",
      "\u001b[1;31mUnsupportedOperation\u001b[0m                      Traceback (most recent call last)",
      "Cell \u001b[1;32mIn[39], line 2\u001b[0m\n\u001b[0;32m      1\u001b[0m \u001b[38;5;28;01mwith\u001b[39;00m \u001b[38;5;28mopen\u001b[39m(\u001b[38;5;124m\"\u001b[39m\u001b[38;5;124mmynotes/note1.txt\u001b[39m\u001b[38;5;124m\"\u001b[39m,\u001b[38;5;124m\"\u001b[39m\u001b[38;5;124ma\u001b[39m\u001b[38;5;124m\"\u001b[39m)\u001b[38;5;28;01mas\u001b[39;00m f:\n\u001b[1;32m----> 2\u001b[0m     data\u001b[38;5;241m=\u001b[39m\u001b[43mf\u001b[49m\u001b[38;5;241;43m.\u001b[39;49m\u001b[43mread\u001b[49m\u001b[43m(\u001b[49m\u001b[43m)\u001b[49m\n\u001b[0;32m      3\u001b[0m \u001b[38;5;28mprint\u001b[39m(data)\n",
      "\u001b[1;31mUnsupportedOperation\u001b[0m: not readable"
     ]
    }
   ],
   "source": [
    "with open(\"mynotes/note1.txt\",\"a\")as f:\n",
    "    data=f.read()\n",
    "print(data)"
   ]
  },
  {
   "cell_type": "code",
   "execution_count": 44,
   "metadata": {},
   "outputs": [
    {
     "name": "stdout",
     "output_type": "stream",
     "text": [
      "['BCA_SYLLABUS_W.E.F.JULY_2018_onwards (1).pdf', 'BCA_SYLLABUS_W.E.F.JULY_2018_onwards.pdf', 'History timeline-watermark.pdf-21.pdf', 'SY_ccb5cce0-bd82-4ee7-8c2e-9f26ae0fb01d_58.pdf', 'Web Technologies.pdf']\n"
     ]
    }
   ],
   "source": [
    "items=os.listdir(\"c:/users/Lenovo/downloads\")\n",
    "pdf=(list(filter(lambda file:file.endswith(\".pdf\"),items)))\n",
    "print(pdf)"
   ]
  },
  {
   "cell_type": "code",
   "execution_count": 45,
   "metadata": {},
   "outputs": [
    {
     "name": "stdout",
     "output_type": "stream",
     "text": [
      "BCA_SYLLABUS_W.E.F.JULY_2018_onwards (1).pdf       7372.82 KB\n",
      "BCA_SYLLABUS_W.E.F.JULY_2018_onwards.pdf           7372.82 KB\n",
      "History timeline-watermark.pdf-21.pdf              1158.48 KB\n",
      "SY_ccb5cce0-bd82-4ee7-8c2e-9f26ae0fb01d_58.pdf     1355.03 KB\n",
      "Web Technologies.pdf                               3824.61 KB\n"
     ]
    }
   ],
   "source": [
    "\n",
    "for file in pdf:\n",
    "    path=f\"c:/users/Lenovo/downloads/{file}\"\n",
    "    size=os.path.getsize(path)\n",
    "    print(f\"{file:50} {size/1024:.2f} KB\")"
   ]
  }
 ],
 "metadata": {
  "kernelspec": {
   "display_name": "base",
   "language": "python",
   "name": "python3"
  },
  "language_info": {
   "codemirror_mode": {
    "name": "ipython",
    "version": 3
   },
   "file_extension": ".py",
   "mimetype": "text/x-python",
   "name": "python",
   "nbconvert_exporter": "python",
   "pygments_lexer": "ipython3",
   "version": "3.12.3"
  }
 },
 "nbformat": 4,
 "nbformat_minor": 2
}
