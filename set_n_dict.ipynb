{
 "cells": [
  {
   "cell_type": "markdown",
   "metadata": {},
   "source": [
    "## set\n",
    "- create\n",
    "- method"
   ]
  },
  {
   "cell_type": "code",
   "execution_count": 1,
   "metadata": {},
   "outputs": [
    {
     "name": "stdout",
     "output_type": "stream",
     "text": [
      "set()\n",
      "{1, 2, 3, 4, 5, 6}\n",
      "{'banana', 'cherry', 'apple'}\n",
      "{'banana', 3.14, 205, 'apple'}\n",
      "{1, 2, 3, 4, 5, 6, 7, 8, 9, 10}\n",
      "{'t', 'h', 'o', ' ', 'p', 'a', 'e', 'y', 'r'}\n"
     ]
    }
   ],
   "source": [
    "x= set()#empty\n",
    "print(x)\n",
    "y={1,2,3,4,5,6,6}\n",
    "print(y)\n",
    "fruits={\"apple\",\"banana\",\"cherry\"}\n",
    "print(fruits)\n",
    "data={\"apple\",205,3.14,\"banana\"}\n",
    "print(data)\n",
    "a= set([1,2,3,4,5,6,7,8,9,10])\n",
    "b= set(\"harry potter\")\n",
    "print(a)\n",
    "print(b)"
   ]
  },
  {
   "cell_type": "code",
   "execution_count": 2,
   "metadata": {},
   "outputs": [
    {
     "name": "stdout",
     "output_type": "stream",
     "text": [
      "{'The hero of ages', 'The well of ascension', 'The final empire'}\n"
     ]
    }
   ],
   "source": [
    "a=set()\n",
    "a.add(\"The final empire\")\n",
    "a.add(\"The hero of ages\")\n",
    "a.add(\"The well of ascension\")\n",
    "print(a)"
   ]
  },
  {
   "cell_type": "code",
   "execution_count": 3,
   "metadata": {},
   "outputs": [
    {
     "name": "stdout",
     "output_type": "stream",
     "text": [
      "{'Applecider', 'Appleseed', 'The well of ascension', 'The final empire', 'The hero of ages', 'Applepie'}\n"
     ]
    }
   ],
   "source": [
    "a.update([\"Appleseed\",\"Applepie\",\"Applecider\"])\n",
    "print(a)"
   ]
  },
  {
   "cell_type": "code",
   "execution_count": 4,
   "metadata": {},
   "outputs": [
    {
     "name": "stdout",
     "output_type": "stream",
     "text": [
      "{'Applecider', 'Appleseed', 'The well of ascension', 'The final empire', 'The hero of ages', 'Applepie'}\n"
     ]
    }
   ],
   "source": [
    "\n",
    "a.add(\"Appleseed\")\n",
    "print(a)"
   ]
  },
  {
   "cell_type": "code",
   "execution_count": 5,
   "metadata": {},
   "outputs": [
    {
     "name": "stdout",
     "output_type": "stream",
     "text": [
      "{'Applecider', 'The well of ascension', 'The final empire', 'The hero of ages'}\n"
     ]
    }
   ],
   "source": [
    "a.discard(\"Appleseed\")\n",
    "a.discard(\"Applepie\")\n",
    "a.discard(\"Appleseed\")\n",
    "print(a)"
   ]
  },
  {
   "cell_type": "code",
   "execution_count": 6,
   "metadata": {},
   "outputs": [
    {
     "name": "stdout",
     "output_type": "stream",
     "text": [
      "{1, 2, 3, 4, 5}\n",
      "{1, 2, 3, 4, 5, 6, 7, 8}\n",
      "{1, 2, 3, 4, 5, 6, 7, 8}\n"
     ]
    }
   ],
   "source": [
    "a={1,2,3}\n",
    "b={3,4,5}\n",
    "c={6,7,8}\n",
    "ab=a.union(b)\n",
    "print(ab)\n",
    "print(a.union(b,c))\n",
    "print(a | b |c)"
   ]
  },
  {
   "cell_type": "code",
   "execution_count": 7,
   "metadata": {},
   "outputs": [
    {
     "name": "stdout",
     "output_type": "stream",
     "text": [
      "{3}\n",
      "{3}\n",
      "set()\n",
      "set()\n"
     ]
    }
   ],
   "source": [
    "\n",
    "print(a.intersection(b))\n",
    "print(a & b)\n",
    "print(a & c)\n",
    "print(a & b &c)"
   ]
  },
  {
   "cell_type": "code",
   "execution_count": 8,
   "metadata": {},
   "outputs": [
    {
     "name": "stdout",
     "output_type": "stream",
     "text": [
      "{1, 2}\n",
      "{4, 5}\n",
      "{1, 2}\n"
     ]
    }
   ],
   "source": [
    "print(a.difference(b))\n",
    "print(b.difference(a))\n",
    "print(a-b)# is difference"
   ]
  },
  {
   "cell_type": "code",
   "execution_count": 9,
   "metadata": {},
   "outputs": [
    {
     "name": "stdout",
     "output_type": "stream",
     "text": [
      "{1, 2, 4, 5}\n",
      "{1, 2, 4, 5}\n"
     ]
    }
   ],
   "source": [
    "print(a.symmetric_difference(b))\n",
    "print(a^b)# ^ is symmetric difference"
   ]
  },
  {
   "cell_type": "markdown",
   "metadata": {},
   "source": [
    "## Dictionary\n",
    "- creating\n",
    "- accessing\n",
    "- add or update\n",
    "- remove\n",
    "- traversal"
   ]
  },
  {
   "cell_type": "code",
   "execution_count": 10,
   "metadata": {},
   "outputs": [],
   "source": [
    "data=[\"alex\",True,False,29,\"New york\",\"Photographer\"]\n",
    "\n",
    "\n",
    "datadict={\n",
    "    \"name\":\"alex\",\n",
    "    \"isMarried\":True,\n",
    "    \"hasChildren\": False,\n",
    "    \"age\": 29,\n",
    "    \"city\": \"New york\",\n",
    "    \"profession\": \"Photographer\"\n",
    "}"
   ]
  },
  {
   "cell_type": "code",
   "execution_count": 11,
   "metadata": {},
   "outputs": [
    {
     "data": {
      "text/plain": [
       "{'name': 'alex',\n",
       " 'isMarried': True,\n",
       " 'hasChildren': False,\n",
       " 'age': 29,\n",
       " 'city': 'New york',\n",
       " 'profession': 'Photographer'}"
      ]
     },
     "execution_count": 11,
     "metadata": {},
     "output_type": "execute_result"
    }
   ],
   "source": [
    "\n",
    "(datadict)\n"
   ]
  },
  {
   "cell_type": "code",
   "execution_count": 12,
   "metadata": {},
   "outputs": [
    {
     "name": "stdout",
     "output_type": "stream",
     "text": [
      "{'name': 'alex', 'isMarried': True, 'hasChildren': False, 'age': 29, 'city': 'New york', 'profession': 'Photographer'}\n",
      "{'food': 500, 'rent': 1700, 'insurance': 200}\n"
     ]
    }
   ],
   "source": [
    "\n",
    "movies={}#empty dictionary\n",
    "expenditure= dict(\n",
    "    food =500,\n",
    "    rent =1700,\n",
    "    insurance=200,\n",
    ")\n",
    "print(datadict)\n",
    "print(expenditure)"
   ]
  },
  {
   "cell_type": "code",
   "execution_count": 13,
   "metadata": {},
   "outputs": [
    {
     "name": "stdout",
     "output_type": "stream",
     "text": [
      "alex\n",
      "True\n",
      "New york\n"
     ]
    }
   ],
   "source": [
    "print(datadict[\"name\"])\n",
    "print(datadict[\"isMarried\"])\n",
    "print(datadict[\"city\"])\n",
    "# print(datadict[\"state\"]) #keyerror"
   ]
  },
  {
   "cell_type": "code",
   "execution_count": 14,
   "metadata": {},
   "outputs": [
    {
     "name": "stdout",
     "output_type": "stream",
     "text": [
      "New york\n",
      "None\n",
      "29\n",
      "65\n"
     ]
    }
   ],
   "source": [
    "print(datadict.get(\"city\"))\n",
    "print(datadict.get(\"City\")) #City is not in the dictionary\n",
    "print(datadict.get(\"age\"))\n",
    "print(datadict.get(\"Age\",65)) # Age is not in the dictionary"
   ]
  },
  {
   "cell_type": "code",
   "execution_count": 15,
   "metadata": {},
   "outputs": [
    {
     "name": "stdout",
     "output_type": "stream",
     "text": [
      "{'Deadpool & Wolverine': 'Shawn Levy', 'Bahubali': 'SS Rajamouli', 'Inception': 'Christoper Nolan'}\n"
     ]
    }
   ],
   "source": [
    "\n",
    "movies[\"Deadpool & Wolverine\"] = \"Shawn Levy\"\n",
    "movies[\"Bahubali\"] = \"SS Rajamouli\"\n",
    "movies[\"Inception\"] = \"Christoper Nolan\"\n",
    "print(movies)"
   ]
  },
  {
   "cell_type": "code",
   "execution_count": 16,
   "metadata": {},
   "outputs": [
    {
     "name": "stdout",
     "output_type": "stream",
     "text": [
      "{'Deadpool & Wolverine': 'Shawn Levy', 'Bahubali': 'SS Rajamouli', 'Inception': 'Christoper Nolan', 'The Dark knight': 'Christopher Nolan', 'The Prestige': 'Christopher Nolan', 'The matrix': 'Wachowski Brothers'}\n"
     ]
    }
   ],
   "source": [
    "movies.update(\n",
    "    {\n",
    "    \"The Dark knight\": \"Christopher Nolan\",\n",
    "    \"The Prestige\":\"Christopher Nolan\",\n",
    "    \"The matrix\": \"Wachowski Brothers\",    }\n",
    ")\n",
    "print(movies)"
   ]
  },
  {
   "cell_type": "code",
   "execution_count": 17,
   "metadata": {},
   "outputs": [
    {
     "name": "stdout",
     "output_type": "stream",
     "text": [
      "{'name': 'Alexander', 'isMarried': True, 'hasChildren': False, 'age': 29, 'city': 'New york', 'profession': 'Photographer'}\n"
     ]
    }
   ],
   "source": [
    "datadict[\"name\"]= \"Alexander\"\n",
    "print(datadict)"
   ]
  },
  {
   "cell_type": "code",
   "execution_count": 18,
   "metadata": {},
   "outputs": [
    {
     "data": {
      "text/plain": [
       "'SS Rajamouli'"
      ]
     },
     "execution_count": 18,
     "metadata": {},
     "output_type": "execute_result"
    }
   ],
   "source": [
    "movies.pop(\"Bahubali\") # remove"
   ]
  },
  {
   "cell_type": "code",
   "execution_count": 19,
   "metadata": {},
   "outputs": [
    {
     "data": {
      "text/plain": [
       "{'Deadpool & Wolverine': 'Shawn Levy',\n",
       " 'Inception': 'Christoper Nolan',\n",
       " 'The Dark knight': 'Christopher Nolan',\n",
       " 'The Prestige': 'Christopher Nolan',\n",
       " 'The matrix': 'Wachowski Brothers'}"
      ]
     },
     "execution_count": 19,
     "metadata": {},
     "output_type": "execute_result"
    }
   ],
   "source": [
    "movies"
   ]
  },
  {
   "cell_type": "markdown",
   "metadata": {},
   "source": [
    "\n",
    "for loop in dict will iterate over keys"
   ]
  },
  {
   "cell_type": "code",
   "execution_count": 20,
   "metadata": {},
   "outputs": [
    {
     "name": "stdout",
     "output_type": "stream",
     "text": [
      "name\n",
      "isMarried\n",
      "hasChildren\n",
      "age\n",
      "city\n",
      "profession\n"
     ]
    }
   ],
   "source": [
    "for item in datadict:\n",
    "    print(item)"
   ]
  },
  {
   "cell_type": "code",
   "execution_count": 21,
   "metadata": {},
   "outputs": [
    {
     "name": "stdout",
     "output_type": "stream",
     "text": [
      "Alexander\n",
      "True\n",
      "False\n",
      "29\n",
      "New york\n",
      "Photographer\n"
     ]
    }
   ],
   "source": [
    "\n",
    "for item in datadict:\n",
    "    print(datadict[item])"
   ]
  },
  {
   "cell_type": "code",
   "execution_count": 22,
   "metadata": {},
   "outputs": [
    {
     "name": "stdout",
     "output_type": "stream",
     "text": [
      "name Alexander\n",
      "isMarried True\n",
      "hasChildren False\n",
      "age 29\n",
      "city New york\n",
      "profession Photographer\n"
     ]
    }
   ],
   "source": [
    "for k,v in datadict.items():\n",
    "    print(k,v)"
   ]
  },
  {
   "cell_type": "code",
   "execution_count": 23,
   "metadata": {},
   "outputs": [
    {
     "data": {
      "text/plain": [
       "dict_keys(['Deadpool & Wolverine', 'Inception', 'The Dark knight', 'The Prestige', 'The matrix'])"
      ]
     },
     "execution_count": 23,
     "metadata": {},
     "output_type": "execute_result"
    }
   ],
   "source": [
    "movies.keys()"
   ]
  },
  {
   "cell_type": "code",
   "execution_count": 24,
   "metadata": {},
   "outputs": [
    {
     "data": {
      "text/plain": [
       "dict_keys(['Deadpool & Wolverine', 'Inception', 'The Dark knight', 'The Prestige', 'The matrix'])"
      ]
     },
     "execution_count": 24,
     "metadata": {},
     "output_type": "execute_result"
    }
   ],
   "source": [
    "movies.keys()"
   ]
  },
  {
   "cell_type": "code",
   "execution_count": 25,
   "metadata": {},
   "outputs": [],
   "source": [
    "\n",
    "# nested dictionary\n",
    "report ={\n",
    "    \"01\": {\n",
    "        \"name\": \"Alex\",\n",
    "        \"Subjects\":{\n",
    "            \"maths\":80,\n",
    "            \"science\":90,\n",
    "            \"english\":89\n",
    "        }\n",
    "    },\n",
    "    \"02\": {\n",
    "        \"name\": \"John\",\n",
    "        \"Subjects\":{\n",
    "            \"maths\":90,\n",
    "            \"science\":75,\n",
    "            \"english\":95\n",
    "        }\n",
    "    },\n",
    "}\n"
   ]
  },
  {
   "cell_type": "code",
   "execution_count": 26,
   "metadata": {},
   "outputs": [
    {
     "data": {
      "text/plain": [
       "95"
      ]
     },
     "execution_count": 26,
     "metadata": {},
     "output_type": "execute_result"
    }
   ],
   "source": [
    "\n",
    "report[\"02\"][\"Subjects\"][\"english\"]"
   ]
  },
  {
   "cell_type": "code",
   "execution_count": 27,
   "metadata": {},
   "outputs": [
    {
     "name": "stdout",
     "output_type": "stream",
     "text": [
      "{'01': {'name': 'Alex',\n",
      "        'Subjects': {'maths': 80, 'science': 90, 'english': 89}},\n",
      " '02': {'name': 'John',\n",
      "        'Subjects': {'maths': 90, 'science': 75, 'english': 95}}}\n"
     ]
    }
   ],
   "source": [
    "from pprint import pp\n",
    "pp(report)"
   ]
  },
  {
   "cell_type": "code",
   "execution_count": 28,
   "metadata": {},
   "outputs": [
    {
     "name": "stdout",
     "output_type": "stream",
     "text": [
      "{'year': [2019, 2020, 2021, 2022, 2023, 2024], 'rainfall': [300, 400, 200, 100, 400, 200]}\n"
     ]
    }
   ],
   "source": [
    "rainfall_data={\n",
    "    \"year\":[2019,2020,2021,2022,2023,2024],\n",
    "    \"rainfall\":[300,400,200,100,400,200]\n",
    "}\n",
    "print(rainfall_data)"
   ]
  }
 ],
 "metadata": {
  "kernelspec": {
   "display_name": "base",
   "language": "python",
   "name": "python3"
  },
  "language_info": {
   "codemirror_mode": {
    "name": "ipython",
    "version": 3
   },
   "file_extension": ".py",
   "mimetype": "text/x-python",
   "name": "python",
   "nbconvert_exporter": "python",
   "pygments_lexer": "ipython3",
   "version": "3.12.3"
  }
 },
 "nbformat": 4,
 "nbformat_minor": 2
}
